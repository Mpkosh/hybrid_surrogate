{
 "cells": [
  {
   "cell_type": "code",
   "execution_count": 1,
   "id": "424b66ae",
   "metadata": {},
   "outputs": [],
   "source": [
    "import numpy as np\n",
    "import matplotlib.pyplot as plt\n",
    "import pandas as pd\n",
    "import sys\n",
    "import os\n",
    "import torch\n",
    "import tqdm\n",
    "import arviz as az\n",
    "\n",
    "sys.path.append(os.path.dirname(os.getcwd())) \n",
    "from source.model_output import SEIRModelOutput, SEIRParams\n",
    "from source.SEIR_network import SEIRNetworkModel\n",
    "from source.autoencoder import AESurrogateModel\n",
    "from source.forecast import SEIRForecaster\n",
    "import source.plots as plots\n",
    "\n",
    "from sklearn.metrics import r2_score"
   ]
  },
  {
   "cell_type": "code",
   "execution_count": null,
   "id": "4f2711b8",
   "metadata": {},
   "outputs": [],
   "source": [
    "model = SEIRNetworkModel(population=5*10**6)"
   ]
  }
 ],
 "metadata": {
  "kernelspec": {
   "display_name": ".env",
   "language": "python",
   "name": "python3"
  },
  "language_info": {
   "codemirror_mode": {
    "name": "ipython",
    "version": 3
   },
   "file_extension": ".py",
   "mimetype": "text/x-python",
   "name": "python",
   "nbconvert_exporter": "python",
   "pygments_lexer": "ipython3",
   "version": "3.12.5"
  }
 },
 "nbformat": 4,
 "nbformat_minor": 5
}
