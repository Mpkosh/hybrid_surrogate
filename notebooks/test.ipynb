{
 "cells": [
  {
   "cell_type": "code",
   "execution_count": 10,
   "id": "f5fb43ca",
   "metadata": {},
   "outputs": [],
   "source": [
    "import numpy as np \n",
    "import pandas as pd \n",
    "import matplotlib.pyplot as plt\n",
    "import sys \n",
    "import os\n",
    "import networkx as nx\n",
    "from collections import Counter, defaultdict\n",
    "import EoN\n",
    "\n",
    "# define path to the project for convenoent relative import\n",
    "sys.path.append(os.path.dirname(os.getcwd())) \n",
    "from source.model_output import SEIRModelOutput, SEIRParams\n"
   ]
  },
  {
   "cell_type": "code",
   "execution_count": 17,
   "id": "0cae1c23",
   "metadata": {},
   "outputs": [],
   "source": [
    "class SEIRNetworkModel():\n",
    "    def __init__(self, population: int):\n",
    "        self.population = population\n",
    "        \n",
    "        # FOLLOWING PARAMETERS ARE EPIDEMICALLY DETERMINED\n",
    "        # R_0 HERE LIES IN RANGE [1; 2.5]\n",
    "        self.min_params = SEIRParams(beta=1/9, gamma=1/5, delta=1/9, init_inf_frac=1e-6, init_rec_frac=1e-2)\n",
    "        self.max_params = SEIRParams(beta=0.625, gamma=1, delta=1/4, init_inf_frac=1e-3, init_rec_frac=2e-1)\n",
    "        self.last_sim_params = None\n",
    "        \n",
    "        self.G=nx.barabasi_albert_graph(population, 5)\n",
    "    \n",
    "    @staticmethod\n",
    "    def find_nearest_idx(array, value):\n",
    "        array = np.asarray(array)\n",
    "        idx = (np.abs(array - value)).argmin()\n",
    "        return idx\n",
    "    \n",
    "    def transform_event_times_to_days(self, model_output):\n",
    "        indices = []\n",
    "        for day in range(len(model_output.t)):\n",
    "            index = self.find_nearest_idx(model_output.t, day)\n",
    "            indices.append(index)\n",
    "        new_model_output = SEIRModelOutput(model_output.t[indices], model_output.S[indices],\n",
    "                                        model_output.E[indices], model_output.I[indices],\n",
    "                                        model_output.R[indices])\n",
    "        return new_model_output\n",
    "                \n",
    "\n",
    "    def simulate(self, beta=1/7*1.5, gamma=1/2, delta=1/7, init_inf_frac=1e-4, init_rec_frac=0.15, tmax: int = 150):\n",
    "        '''\n",
    "        Parameters:\n",
    "        \n",
    "        beta: transmission rate\n",
    "        gamma: rate of progression from exposed to infectious\n",
    "        delta: recovery rate\n",
    "        init_inf_frac: fraction of initially infected\n",
    "        init_rec_frac: fraction of initially recovered\n",
    "        '''\n",
    "        H = nx.DiGraph()\n",
    "        H.add_edge('E', 'I', rate=gamma)\n",
    "        H.add_edge('I', 'R', rate=delta)\n",
    "        J = nx.DiGraph()\n",
    "        J.add_edge(('I', 'S'), ('I', 'E'), rate=beta)\n",
    "        initial_infected = int(init_inf_frac*self.population)\n",
    "        initial_status = defaultdict(lambda: 'S')\n",
    "        for node in range(initial_infected):\n",
    "            initial_status[node] = 'I'\n",
    "        self.result = self.transform_event_times_to_days(SEIRModelOutput\\\n",
    "                        (*EoN.Gillespie_simple_contagion(self.G, H, J, initial_status, \\\n",
    "                        return_statuses=('S', 'E', 'I', 'R'), tmax=tmax)))\n",
    "        return self.result\n",
    "        # self.result = SEIRModelOutput(t, S, E, I, R)\n",
    "        # self.last_sim_params = SEIRParams(beta, gamma, delta, init_inf_frac, init_rec_frac)\n",
    "        # return self.result"
   ]
  },
  {
   "cell_type": "code",
   "execution_count": 18,
   "id": "4a50a647",
   "metadata": {},
   "outputs": [],
   "source": [
    "tmax = 180\n",
    "iterations = 5  # run 5 simulations\n",
    "beta = 0.01 # transmission rate\n",
    "delta = 0.08 # recovery rate\n",
    "init_inf_frac = 0.005 # random fraction initially infected\n",
    "gamma = 0.1 # latent period rate\n",
    "\n",
    "num_runs = 10"
   ]
  },
  {
   "cell_type": "code",
   "execution_count": 20,
   "id": "0a00e383",
   "metadata": {},
   "outputs": [],
   "source": [
    "network_model = SEIRNetworkModel(10**5)\n",
    "res = network_model.simulate(beta=beta, gamma=gamma, delta=delta, init_inf_frac=0.005)"
   ]
  },
  {
   "cell_type": "code",
   "execution_count": 22,
   "id": "11ade82b",
   "metadata": {},
   "outputs": [
    {
     "data": {
      "text/plain": [
       "[<matplotlib.lines.Line2D at 0x16243c565c0>]"
      ]
     },
     "execution_count": 22,
     "metadata": {},
     "output_type": "execute_result"
    },
    {
     "data": {
      "image/png": "[encoded data removed]",
      "text/plain": [
       "<Figure size 640x480 with 1 Axes>"
      ]
     },
     "metadata": {},
     "output_type": "display_data"
    }
   ],
   "source": [
    "plt.plot(res.I)"
   ]
  }
 ],
 "metadata": {
  "kernelspec": {
   "display_name": ".env",
   "language": "python",
   "name": "python3"
  },
  "language_info": {
   "codemirror_mode": {
    "name": "ipython",
    "version": 3
   },
   "file_extension": ".py",
   "mimetype": "text/x-python",
   "name": "python",
   "nbconvert_exporter": "python",
   "pygments_lexer": "ipython3",
   "version": "3.10.11"
  }
 },
 "nbformat": 4,
 "nbformat_minor": 5
}
