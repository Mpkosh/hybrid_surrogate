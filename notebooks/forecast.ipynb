{
 "cells": [
  {
   "cell_type": "code",
   "execution_count": null,
   "id": "81fd2554",
   "metadata": {},
   "outputs": [],
   "source": [
    "import numpy as np\n",
    "import matlpolib.pyplot as plt\n",
    "import pandas as pd"
   ]
  }
 ],
 "metadata": {
  "language_info": {
   "name": "python"
  }
 },
 "nbformat": 4,
 "nbformat_minor": 5
}
