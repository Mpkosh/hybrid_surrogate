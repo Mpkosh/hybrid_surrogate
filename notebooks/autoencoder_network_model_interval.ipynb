{
 "cells": [
  {
   "cell_type": "code",
   "execution_count": 4,
   "id": "594b262e",
   "metadata": {},
   "outputs": [],
   "source": [
    "import numpy as np\n",
    "import pandas as pd\n",
    "import matplotlib.pyplot as plt\n",
    "import random\n",
    "import math\n",
    "from tqdm import tqdm\n",
    "\n",
    "from sklearn.preprocessing import MinMaxScaler\n",
    "from sklearn.metrics import r2_score\n",
    "from torchmetrics.functional import r2_score as r2_loss\n",
    "from sklearn.model_selection import train_test_split\n",
    "from itertools import product\n",
    "\n",
    "import torch\n",
    "import torch.nn as nn\n",
    "import torch.optim as optim\n",
    "import sys \n",
    "import os\n",
    "from torch.utils.data import DataLoader, TensorDataset\n",
    "\n",
    "sys.path.append(os.path.dirname(os.getcwd())) \n",
    "from source.autoencoder import VariationalAutoencoder"
   ]
  },
  {
   "cell_type": "markdown",
   "id": "7ca8bee1",
   "metadata": {},
   "source": [
    "### Simulate time series with intervals \n",
    "Now time series array of train data consists of 3 parts: mean values of daily incidence, low valuee of daily incidence and high values of daily incidence for each day. Therefore, the size of time series array is three times bigger than tmax -- number of simulation days. "
   ]
  },
  {
   "cell_type": "code",
   "execution_count": 8,
   "id": "98b6f12d",
   "metadata": {},
   "outputs": [],
   "source": [
    "df = pd.read_csv('../data/network_model_interval_dataset_72.csv', index_col=0)\n",
    "tmax = int((df.values.shape[1] - 5)/3) # number of simulation days\n",
    "# 5 - number of parameters of the network model\n",
    "df['ts'] = df[['incidence_' + str(day_index) for day_index in range(tmax)] + \\\n",
    "              ['low_incidence_' + str(day_index) for day_index in range(tmax)] + \\\n",
    "              ['high_incidence_' + str(day_index) for day_index in range(tmax)]].values.tolist()\n",
    "data = df[['beta', 'alpha', 'ts']]"
   ]
  },
  {
   "cell_type": "code",
   "execution_count": 9,
   "id": "f15172ab",
   "metadata": {},
   "outputs": [
    {
     "name": "stdout",
     "output_type": "stream",
     "text": [
      "Диапазон параметров beta:[0.1, 0.9], alpha:[0.2, 0.9000000000000002]\n"
     ]
    }
   ],
   "source": [
    "print(r'Диапазон параметров beta:[{}, {}], alpha:[{}, {}]'.format(df['beta'].min(), df['beta'].max(),\n",
    "                                                                             df['alpha'].min(),\n",
    "                                                                             df['alpha'].max()))"
   ]
  },
  {
   "cell_type": "code",
   "execution_count": 10,
   "id": "42095841",
   "metadata": {},
   "outputs": [],
   "source": [
    "X_train, X_test, y_train, y_test =  train_test_split(data.drop(columns=['ts']), \n",
    "                                                     data.ts.values, \n",
    "                                                     test_size=0.33, \n",
    "                                                     random_state=42)\n",
    "X_train, X_test = X_train.values, X_test.values"
   ]
  },
  {
   "cell_type": "code",
   "execution_count": null,
   "id": "1e1d10fc",
   "metadata": {},
   "outputs": [],
   "source": []
  }
 ],
 "metadata": {
  "kernelspec": {
   "display_name": ".env",
   "language": "python",
   "name": "python3"
  },
  "language_info": {
   "codemirror_mode": {
    "name": "ipython",
    "version": 3
   },
   "file_extension": ".py",
   "mimetype": "text/x-python",
   "name": "python",
   "nbconvert_exporter": "python",
   "pygments_lexer": "ipython3",
   "version": "3.12.5"
  }
 },
 "nbformat": 4,
 "nbformat_minor": 5
}
