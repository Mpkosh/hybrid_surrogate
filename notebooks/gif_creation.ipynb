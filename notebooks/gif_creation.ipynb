{
 "cells": [
  {
   "cell_type": "code",
   "execution_count": 1,
   "id": "0e80e9fd",
   "metadata": {},
   "outputs": [],
   "source": [
    "from PIL import Image\n",
    "\n",
    "# List of PNG file paths\n",
    "png_files = [r'../figures/gif/{}.png'.format(index) for index in range(5, 47)]\n",
    "\n",
    "# Open images and convert to 'RGBA'\n",
    "images = [Image.open(f).convert('RGBA') for f in png_files]\n",
    "\n",
    "# Save as an animated GIF\n",
    "images[0].save(\n",
    "    '../figures/_output.gif',\n",
    "    save_all=True,\n",
    "    append_images=images[1:],\n",
    "    duration=500,      # milliseconds per frame\n",
    "    loop=0             # 0 = loop forever\n",
    ")"
   ]
  }
 ],
 "metadata": {
  "kernelspec": {
   "display_name": ".env",
   "language": "python",
   "name": "python3"
  },
  "language_info": {
   "codemirror_mode": {
    "name": "ipython",
    "version": 3
   },
   "file_extension": ".py",
   "mimetype": "text/x-python",
   "name": "python",
   "nbconvert_exporter": "python",
   "pygments_lexer": "ipython3",
   "version": "3.12.5"
  }
 },
 "nbformat": 4,
 "nbformat_minor": 5
}
