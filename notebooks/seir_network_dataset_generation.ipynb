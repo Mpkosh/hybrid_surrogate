{
 "cells": [
  {
   "cell_type": "code",
   "execution_count": 30,
   "id": "5848006d",
   "metadata": {},
   "outputs": [],
   "source": [
    "import numpy as np \n",
    "import pandas as pd \n",
    "import matplotlib.pyplot as plt\n",
    "import sys \n",
    "import os\n",
    "import networkx as nx\n",
    "from collections import Counter, defaultdict\n",
    "import EoN\n",
    "import tqdm\n",
    "\n",
    "# define path to the project for convenoent relative import\n",
    "sys.path.append(os.path.dirname(os.getcwd())) \n",
    "from source.model_output import SEIRModelOutput, SEIRParams\n",
    "from source.SEIR_network import SEIRNetworkModel\n"
   ]
  },
  {
   "cell_type": "markdown",
   "id": "51a45ad6",
   "metadata": {},
   "source": [
    "### Dataset with simple curves"
   ]
  },
  {
   "cell_type": "code",
   "execution_count": 41,
   "id": "a2365b15",
   "metadata": {},
   "outputs": [],
   "source": [
    "tmax = 150 # time in days for simulation\n",
    "columns = ['beta', 'gamma', 'delta', 'init_inf_frac', 'alpha']+ \\\n",
    "    [day_index for day_index in range(tmax)]\n",
    "dataset = pd.DataFrame(columns=columns)"
   ]
  },
  {
   "cell_type": "code",
   "execution_count": 42,
   "id": "97063b6a",
   "metadata": {},
   "outputs": [
    {
     "name": "stdout",
     "output_type": "stream",
     "text": [
      "Dataset size: 7200\n"
     ]
    },
    {
     "name": "stderr",
     "output_type": "stream",
     "text": [
      "100%|██████████| 90/90 [6:47:50<00:00, 271.89s/it]  \n"
     ]
    }
   ],
   "source": [
    "network_model = SEIRNetworkModel(10**5)\n",
    "\n",
    "beta = 0.5 # transmission rate\n",
    "gamma = 0.3 # latent period rate\n",
    "delta = 0.2 # recovery rate\n",
    "init_inf_frac = 1e-4 # fraction of initially infected\n",
    "\n",
    "alpha_arr = np.arange(0.2, 1, 0.01) # fraction of initial non-immune array\n",
    "beta_arr = np.arange(0.1, 1, 0.01) # transmission rate array\n",
    "\n",
    "print('Dataset size:', len(alpha_arr)*len(beta_arr))\n",
    "\n",
    "for beta in tqdm.tqdm(beta_arr):\n",
    "    for alpha in alpha_arr:\n",
    "        res = network_model.simulate(beta=beta, gamma=gamma, \n",
    "                                 delta=delta, init_inf_frac=init_inf_frac, \n",
    "                                 init_rec_frac=(1-alpha))\n",
    "        sample = [beta, gamma, delta, init_inf_frac, alpha] + res.daily_incidence\n",
    "        dataset.loc[len(dataset)] = sample"
   ]
  },
  {
   "cell_type": "code",
   "execution_count": 43,
   "id": "55cfdc2b",
   "metadata": {},
   "outputs": [],
   "source": [
    "dataset.to_csv('../data/network_model_dataset_7200.csv')"
   ]
  },
  {
   "cell_type": "code",
   "execution_count": 44,
   "id": "831a4013",
   "metadata": {},
   "outputs": [
    {
     "data": {
      "text/html": [
       "<div>\n",
       "<style scoped>\n",
       "    .dataframe tbody tr th:only-of-type {\n",
       "        vertical-align: middle;\n",
       "    }\n",
       "\n",
       "    .dataframe tbody tr th {\n",
       "        vertical-align: top;\n",
       "    }\n",
       "\n",
       "    .dataframe thead th {\n",
       "        text-align: right;\n",
       "    }\n",
       "</style>\n",
       "<table border=\"1\" class=\"dataframe\">\n",
       "  <thead>\n",
       "    <tr style=\"text-align: right;\">\n",
       "      <th></th>\n",
       "      <th>beta</th>\n",
       "      <th>gamma</th>\n",
       "      <th>delta</th>\n",
       "      <th>init_inf_frac</th>\n",
       "      <th>alpha</th>\n",
       "      <th>0</th>\n",
       "      <th>1</th>\n",
       "      <th>2</th>\n",
       "      <th>3</th>\n",
       "      <th>4</th>\n",
       "      <th>...</th>\n",
       "      <th>140</th>\n",
       "      <th>141</th>\n",
       "      <th>142</th>\n",
       "      <th>143</th>\n",
       "      <th>144</th>\n",
       "      <th>145</th>\n",
       "      <th>146</th>\n",
       "      <th>147</th>\n",
       "      <th>148</th>\n",
       "      <th>149</th>\n",
       "    </tr>\n",
       "  </thead>\n",
       "  <tbody>\n",
       "    <tr>\n",
       "      <th>0</th>\n",
       "      <td>0.10</td>\n",
       "      <td>0.3</td>\n",
       "      <td>0.2</td>\n",
       "      <td>0.0001</td>\n",
       "      <td>0.20</td>\n",
       "      <td>0.0</td>\n",
       "      <td>7.0</td>\n",
       "      <td>17.0</td>\n",
       "      <td>31.0</td>\n",
       "      <td>30.0</td>\n",
       "      <td>...</td>\n",
       "      <td>0.0</td>\n",
       "      <td>0.0</td>\n",
       "      <td>0.0</td>\n",
       "      <td>0.0</td>\n",
       "      <td>0.0</td>\n",
       "      <td>0.0</td>\n",
       "      <td>0.0</td>\n",
       "      <td>0.0</td>\n",
       "      <td>0.0</td>\n",
       "      <td>0.0</td>\n",
       "    </tr>\n",
       "    <tr>\n",
       "      <th>1</th>\n",
       "      <td>0.10</td>\n",
       "      <td>0.3</td>\n",
       "      <td>0.2</td>\n",
       "      <td>0.0001</td>\n",
       "      <td>0.21</td>\n",
       "      <td>0.0</td>\n",
       "      <td>10.0</td>\n",
       "      <td>17.0</td>\n",
       "      <td>36.0</td>\n",
       "      <td>38.0</td>\n",
       "      <td>...</td>\n",
       "      <td>0.0</td>\n",
       "      <td>0.0</td>\n",
       "      <td>0.0</td>\n",
       "      <td>0.0</td>\n",
       "      <td>0.0</td>\n",
       "      <td>0.0</td>\n",
       "      <td>0.0</td>\n",
       "      <td>0.0</td>\n",
       "      <td>0.0</td>\n",
       "      <td>0.0</td>\n",
       "    </tr>\n",
       "    <tr>\n",
       "      <th>2</th>\n",
       "      <td>0.10</td>\n",
       "      <td>0.3</td>\n",
       "      <td>0.2</td>\n",
       "      <td>0.0001</td>\n",
       "      <td>0.22</td>\n",
       "      <td>0.0</td>\n",
       "      <td>12.0</td>\n",
       "      <td>18.0</td>\n",
       "      <td>20.0</td>\n",
       "      <td>31.0</td>\n",
       "      <td>...</td>\n",
       "      <td>0.0</td>\n",
       "      <td>0.0</td>\n",
       "      <td>0.0</td>\n",
       "      <td>0.0</td>\n",
       "      <td>0.0</td>\n",
       "      <td>0.0</td>\n",
       "      <td>0.0</td>\n",
       "      <td>0.0</td>\n",
       "      <td>0.0</td>\n",
       "      <td>0.0</td>\n",
       "    </tr>\n",
       "    <tr>\n",
       "      <th>3</th>\n",
       "      <td>0.10</td>\n",
       "      <td>0.3</td>\n",
       "      <td>0.2</td>\n",
       "      <td>0.0001</td>\n",
       "      <td>0.23</td>\n",
       "      <td>0.0</td>\n",
       "      <td>9.0</td>\n",
       "      <td>24.0</td>\n",
       "      <td>28.0</td>\n",
       "      <td>33.0</td>\n",
       "      <td>...</td>\n",
       "      <td>0.0</td>\n",
       "      <td>0.0</td>\n",
       "      <td>0.0</td>\n",
       "      <td>0.0</td>\n",
       "      <td>0.0</td>\n",
       "      <td>0.0</td>\n",
       "      <td>0.0</td>\n",
       "      <td>0.0</td>\n",
       "      <td>0.0</td>\n",
       "      <td>0.0</td>\n",
       "    </tr>\n",
       "    <tr>\n",
       "      <th>4</th>\n",
       "      <td>0.10</td>\n",
       "      <td>0.3</td>\n",
       "      <td>0.2</td>\n",
       "      <td>0.0001</td>\n",
       "      <td>0.24</td>\n",
       "      <td>0.0</td>\n",
       "      <td>8.0</td>\n",
       "      <td>8.0</td>\n",
       "      <td>9.0</td>\n",
       "      <td>10.0</td>\n",
       "      <td>...</td>\n",
       "      <td>0.0</td>\n",
       "      <td>0.0</td>\n",
       "      <td>0.0</td>\n",
       "      <td>0.0</td>\n",
       "      <td>0.0</td>\n",
       "      <td>0.0</td>\n",
       "      <td>0.0</td>\n",
       "      <td>0.0</td>\n",
       "      <td>0.0</td>\n",
       "      <td>0.0</td>\n",
       "    </tr>\n",
       "    <tr>\n",
       "      <th>...</th>\n",
       "      <td>...</td>\n",
       "      <td>...</td>\n",
       "      <td>...</td>\n",
       "      <td>...</td>\n",
       "      <td>...</td>\n",
       "      <td>...</td>\n",
       "      <td>...</td>\n",
       "      <td>...</td>\n",
       "      <td>...</td>\n",
       "      <td>...</td>\n",
       "      <td>...</td>\n",
       "      <td>...</td>\n",
       "      <td>...</td>\n",
       "      <td>...</td>\n",
       "      <td>...</td>\n",
       "      <td>...</td>\n",
       "      <td>...</td>\n",
       "      <td>...</td>\n",
       "      <td>...</td>\n",
       "      <td>...</td>\n",
       "      <td>...</td>\n",
       "    </tr>\n",
       "    <tr>\n",
       "      <th>7195</th>\n",
       "      <td>0.99</td>\n",
       "      <td>0.3</td>\n",
       "      <td>0.2</td>\n",
       "      <td>0.0001</td>\n",
       "      <td>0.95</td>\n",
       "      <td>0.0</td>\n",
       "      <td>580.0</td>\n",
       "      <td>1503.0</td>\n",
       "      <td>3027.0</td>\n",
       "      <td>5325.0</td>\n",
       "      <td>...</td>\n",
       "      <td>0.0</td>\n",
       "      <td>0.0</td>\n",
       "      <td>0.0</td>\n",
       "      <td>0.0</td>\n",
       "      <td>0.0</td>\n",
       "      <td>0.0</td>\n",
       "      <td>0.0</td>\n",
       "      <td>0.0</td>\n",
       "      <td>0.0</td>\n",
       "      <td>0.0</td>\n",
       "    </tr>\n",
       "    <tr>\n",
       "      <th>7196</th>\n",
       "      <td>0.99</td>\n",
       "      <td>0.3</td>\n",
       "      <td>0.2</td>\n",
       "      <td>0.0001</td>\n",
       "      <td>0.96</td>\n",
       "      <td>0.0</td>\n",
       "      <td>562.0</td>\n",
       "      <td>1531.0</td>\n",
       "      <td>3261.0</td>\n",
       "      <td>6013.0</td>\n",
       "      <td>...</td>\n",
       "      <td>0.0</td>\n",
       "      <td>0.0</td>\n",
       "      <td>0.0</td>\n",
       "      <td>0.0</td>\n",
       "      <td>0.0</td>\n",
       "      <td>0.0</td>\n",
       "      <td>0.0</td>\n",
       "      <td>0.0</td>\n",
       "      <td>0.0</td>\n",
       "      <td>0.0</td>\n",
       "    </tr>\n",
       "    <tr>\n",
       "      <th>7197</th>\n",
       "      <td>0.99</td>\n",
       "      <td>0.3</td>\n",
       "      <td>0.2</td>\n",
       "      <td>0.0001</td>\n",
       "      <td>0.97</td>\n",
       "      <td>0.0</td>\n",
       "      <td>560.0</td>\n",
       "      <td>1519.0</td>\n",
       "      <td>3304.0</td>\n",
       "      <td>6409.0</td>\n",
       "      <td>...</td>\n",
       "      <td>0.0</td>\n",
       "      <td>0.0</td>\n",
       "      <td>0.0</td>\n",
       "      <td>0.0</td>\n",
       "      <td>0.0</td>\n",
       "      <td>0.0</td>\n",
       "      <td>0.0</td>\n",
       "      <td>0.0</td>\n",
       "      <td>0.0</td>\n",
       "      <td>0.0</td>\n",
       "    </tr>\n",
       "    <tr>\n",
       "      <th>7198</th>\n",
       "      <td>0.99</td>\n",
       "      <td>0.3</td>\n",
       "      <td>0.2</td>\n",
       "      <td>0.0001</td>\n",
       "      <td>0.98</td>\n",
       "      <td>0.0</td>\n",
       "      <td>628.0</td>\n",
       "      <td>2021.0</td>\n",
       "      <td>4631.0</td>\n",
       "      <td>8496.0</td>\n",
       "      <td>...</td>\n",
       "      <td>0.0</td>\n",
       "      <td>0.0</td>\n",
       "      <td>0.0</td>\n",
       "      <td>0.0</td>\n",
       "      <td>0.0</td>\n",
       "      <td>0.0</td>\n",
       "      <td>0.0</td>\n",
       "      <td>0.0</td>\n",
       "      <td>0.0</td>\n",
       "      <td>0.0</td>\n",
       "    </tr>\n",
       "    <tr>\n",
       "      <th>7199</th>\n",
       "      <td>0.99</td>\n",
       "      <td>0.3</td>\n",
       "      <td>0.2</td>\n",
       "      <td>0.0001</td>\n",
       "      <td>0.99</td>\n",
       "      <td>0.0</td>\n",
       "      <td>779.0</td>\n",
       "      <td>2490.0</td>\n",
       "      <td>5903.0</td>\n",
       "      <td>10407.0</td>\n",
       "      <td>...</td>\n",
       "      <td>0.0</td>\n",
       "      <td>0.0</td>\n",
       "      <td>0.0</td>\n",
       "      <td>0.0</td>\n",
       "      <td>0.0</td>\n",
       "      <td>0.0</td>\n",
       "      <td>0.0</td>\n",
       "      <td>0.0</td>\n",
       "      <td>0.0</td>\n",
       "      <td>0.0</td>\n",
       "    </tr>\n",
       "  </tbody>\n",
       "</table>\n",
       "<p>7200 rows × 155 columns</p>\n",
       "</div>"
      ],
      "text/plain": [
       "      beta  gamma  delta  init_inf_frac  alpha    0      1       2       3  \\\n",
       "0     0.10    0.3    0.2         0.0001   0.20  0.0    7.0    17.0    31.0   \n",
       "1     0.10    0.3    0.2         0.0001   0.21  0.0   10.0    17.0    36.0   \n",
       "2     0.10    0.3    0.2         0.0001   0.22  0.0   12.0    18.0    20.0   \n",
       "3     0.10    0.3    0.2         0.0001   0.23  0.0    9.0    24.0    28.0   \n",
       "4     0.10    0.3    0.2         0.0001   0.24  0.0    8.0     8.0     9.0   \n",
       "...    ...    ...    ...            ...    ...  ...    ...     ...     ...   \n",
       "7195  0.99    0.3    0.2         0.0001   0.95  0.0  580.0  1503.0  3027.0   \n",
       "7196  0.99    0.3    0.2         0.0001   0.96  0.0  562.0  1531.0  3261.0   \n",
       "7197  0.99    0.3    0.2         0.0001   0.97  0.0  560.0  1519.0  3304.0   \n",
       "7198  0.99    0.3    0.2         0.0001   0.98  0.0  628.0  2021.0  4631.0   \n",
       "7199  0.99    0.3    0.2         0.0001   0.99  0.0  779.0  2490.0  5903.0   \n",
       "\n",
       "            4  ...  140  141  142  143  144  145  146  147  148  149  \n",
       "0        30.0  ...  0.0  0.0  0.0  0.0  0.0  0.0  0.0  0.0  0.0  0.0  \n",
       "1        38.0  ...  0.0  0.0  0.0  0.0  0.0  0.0  0.0  0.0  0.0  0.0  \n",
       "2        31.0  ...  0.0  0.0  0.0  0.0  0.0  0.0  0.0  0.0  0.0  0.0  \n",
       "3        33.0  ...  0.0  0.0  0.0  0.0  0.0  0.0  0.0  0.0  0.0  0.0  \n",
       "4        10.0  ...  0.0  0.0  0.0  0.0  0.0  0.0  0.0  0.0  0.0  0.0  \n",
       "...       ...  ...  ...  ...  ...  ...  ...  ...  ...  ...  ...  ...  \n",
       "7195   5325.0  ...  0.0  0.0  0.0  0.0  0.0  0.0  0.0  0.0  0.0  0.0  \n",
       "7196   6013.0  ...  0.0  0.0  0.0  0.0  0.0  0.0  0.0  0.0  0.0  0.0  \n",
       "7197   6409.0  ...  0.0  0.0  0.0  0.0  0.0  0.0  0.0  0.0  0.0  0.0  \n",
       "7198   8496.0  ...  0.0  0.0  0.0  0.0  0.0  0.0  0.0  0.0  0.0  0.0  \n",
       "7199  10407.0  ...  0.0  0.0  0.0  0.0  0.0  0.0  0.0  0.0  0.0  0.0  \n",
       "\n",
       "[7200 rows x 155 columns]"
      ]
     },
     "execution_count": 44,
     "metadata": {},
     "output_type": "execute_result"
    }
   ],
   "source": [
    "dataset"
   ]
  },
  {
   "cell_type": "code",
   "execution_count": 46,
   "id": "f924b053",
   "metadata": {},
   "outputs": [
    {
     "data": {
      "image/png": "[encoded data removed]",
      "text/plain": [
       "<Figure size 640x480 with 1 Axes>"
      ]
     },
     "metadata": {},
     "output_type": "display_data"
    }
   ],
   "source": [
    "for i in range(len(dataset)):\n",
    "    plt.plot(dataset.values[i][5:], color='RoyalBlue', alpha=0.05)\n",
    "\n",
    "plt.xlabel('Days')\n",
    "plt.ylabel('Incidence')\n",
    "plt.savefig('../figures/train_curves_7200.png', dpi=600, bbox_inches='tight')"
   ]
  },
  {
   "cell_type": "code",
   "execution_count": 34,
   "id": "4a7b488b",
   "metadata": {},
   "outputs": [
    {
     "name": "stdout",
     "output_type": "stream",
     "text": [
      "R_0 =  1.0\n"
     ]
    },
    {
     "data": {
      "text/plain": [
       "[<matplotlib.lines.Line2D at 0x291b01190>]"
      ]
     },
     "execution_count": 34,
     "metadata": {},
     "output_type": "execute_result"
    },
    {
     "data": {
      "image/png": "[encoded data removed]",
      "text/plain": [
       "<Figure size 640x480 with 1 Axes>"
      ]
     },
     "metadata": {},
     "output_type": "display_data"
    }
   ],
   "source": [
    "beta = 0.2 # transmission rate\n",
    "gamma = 0.3 # latent period rate\n",
    "delta = 0.2 # recovery rate\n",
    "init_inf_frac = 1e-4 # fraction of initially infected\n",
    "print('R_0 = ', beta/delta)\n",
    "\n",
    "res = network_model.simulate(beta=beta, gamma=gamma, \n",
    "                                 delta=delta, init_inf_frac=init_inf_frac, \n",
    "                                 init_rec_frac=init_rec_frac)\n",
    "plt.plot(res.daily_incidence)"
   ]
  },
  {
   "cell_type": "markdown",
   "id": "34a64544",
   "metadata": {},
   "source": [
    "### Dataset with intervals"
   ]
  },
  {
   "cell_type": "code",
   "execution_count": 47,
   "id": "77270219",
   "metadata": {},
   "outputs": [],
   "source": [
    "tmax = 150 # time in days for simulation\n",
    "columns = ['beta', 'gamma', 'delta', 'init_inf_frac', 'alpha']+ \\\n",
    "    ['incidence_' + str(day_index) for day_index in range(tmax)] + \\\n",
    "    ['low_incidence_' + str(day_index) for day_index in range(tmax)] + \\\n",
    "    ['high_incidence_' + str(day_index) for day_index in range(tmax)]\n",
    "dataset = pd.DataFrame(columns=columns)"
   ]
  },
  {
   "cell_type": "code",
   "execution_count": 53,
   "id": "876f8acd",
   "metadata": {},
   "outputs": [
    {
     "name": "stdout",
     "output_type": "stream",
     "text": [
      "Dataset size: 72\n"
     ]
    },
    {
     "name": "stderr",
     "output_type": "stream",
     "text": [
      "100%|██████████| 9/9 [28:18<00:00, 188.68s/it]\n"
     ]
    }
   ],
   "source": [
    "network_model = SEIRNetworkModel(10**5)\n",
    "\n",
    "beta = 0.5 # transmission rate\n",
    "gamma = 0.3 # latent period rate\n",
    "delta = 0.2 # recovery rate\n",
    "init_inf_frac = 1e-4 # fraction of initially infected\n",
    "\n",
    "alpha_arr = np.arange(0.2, 1, 0.1) # fraction of initial non-immune array\n",
    "beta_arr = np.arange(0.1, 1, 0.1) # transmission rate array\n",
    "\n",
    "num_runs = 10\n",
    "\n",
    "print('Dataset size:', len(alpha_arr)*len(beta_arr))\n",
    "\n",
    "for beta in tqdm.tqdm(beta_arr):\n",
    "    for alpha in alpha_arr:\n",
    "        daily_incidence_arr = []\n",
    "        for _ in range(num_runs):\n",
    "            daily_incidence = network_model.simulate(beta=beta, gamma=gamma, \n",
    "                                 delta=delta, init_inf_frac=init_inf_frac, \n",
    "                                 init_rec_frac=(1-alpha)).daily_incidence\n",
    "            daily_incidence_arr.append(daily_incidence)\n",
    "        daily_incidence_arr = np.array(daily_incidence_arr)\n",
    "        # print(daily_incidence_arr.shape)\n",
    "        mean_daily_incidence = list(np.mean(daily_incidence_arr, axis=0))\n",
    "        low_daily_incidence = list(np.min(daily_incidence_arr, axis=0))\n",
    "        high_daily_incidence = list(np.max(daily_incidence_arr, axis=0))\n",
    "        sample = [beta, gamma, delta, init_inf_frac, alpha] + \\\n",
    "            mean_daily_incidence + low_daily_incidence + high_daily_incidence\n",
    "        dataset.loc[len(dataset)] = sample"
   ]
  },
  {
   "cell_type": "code",
   "execution_count": 54,
   "id": "bc24c88c",
   "metadata": {},
   "outputs": [],
   "source": [
    "dataset.to_csv('../data/network_model_interval_dataset_72.csv')"
   ]
  },
  {
   "cell_type": "code",
   "execution_count": 60,
   "id": "eaa9c95a",
   "metadata": {},
   "outputs": [
    {
     "data": {
      "text/plain": [
       "[<matplotlib.lines.Line2D at 0x2863cef60>]"
      ]
     },
     "execution_count": 60,
     "metadata": {},
     "output_type": "execute_result"
    },
    {
     "data": {
      "image/png": "[encoded data removed]",
      "text/plain": [
       "<Figure size 640x480 with 1 Axes>"
      ]
     },
     "metadata": {},
     "output_type": "display_data"
    }
   ],
   "source": [
    "ts = dataset.iloc[20]\n",
    "ts = ts[5:]\n",
    "plt.plot(ts)"
   ]
  }
 ],
 "metadata": {
  "kernelspec": {
   "display_name": ".env",
   "language": "python",
   "name": "python3"
  },
  "language_info": {
   "codemirror_mode": {
    "name": "ipython",
    "version": 3
   },
   "file_extension": ".py",
   "mimetype": "text/x-python",
   "name": "python",
   "nbconvert_exporter": "python",
   "pygments_lexer": "ipython3",
   "version": "3.12.5"
  }
 },
 "nbformat": 4,
 "nbformat_minor": 5
}
